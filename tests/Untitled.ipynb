{
 "cells": [
  {
   "cell_type": "markdown",
   "id": "01dccdd4",
   "metadata": {},
   "source": [
    "# Deck checker\n",
    "\n",
    "This little script is used to compare the code-generated deck to the version available on AnkiWeb. It is useful so the differences between the decks can be easily viewed. This ensures that changes to the deck are those expected."
   ]
  },
  {
   "cell_type": "markdown",
   "id": "735c977a",
   "metadata": {},
   "source": [
    "## Prerequisits\n",
    "\n",
    " - Download the deck off anki-web\n",
    " - Run the corresponding python script (createJLPTDeck.py) and copy the `generated` folder to this directory \n",
    "\n",
    "Do this for the corresponding note type (`normal` or `extended`) \n",
    "\n",
    "The generated deck should be named `generated.anki2` and stored in the same directory as this notebook.\n",
    "The deck off anki should be named `collection.anki2` and also stored in this directory.\n",
    "\n",
    "`apkg` files are just zip files. Unzip it and you should find the `.anki2` file within."
   ]
  },
  {
   "cell_type": "code",
   "execution_count": 11,
   "id": "c2601d88",
   "metadata": {},
   "outputs": [],
   "source": [
    "import sqlite3\n",
    "import os\n",
    "\n",
    "import pandas as pd\n",
    "\n",
    "# import qgrid"
   ]
  },
  {
   "cell_type": "code",
   "execution_count": 13,
   "id": "eb4e07a7",
   "metadata": {},
   "outputs": [],
   "source": [
    "cols = [\"Expression\", \"English definition\", \"Reading\", \"Grammar\", \"Additional definitions\", \"jlpt\"]\n",
    "\n",
    "def prepare_deck(level, name):\n",
    "    # level = e.g. \"jlpt-n5\"\n",
    "    # returns dataframe of the level-corresponding deck from the web deck\n",
    "    # name is the file name of the .anki2 file\n",
    "\n",
    "    if not os.path.isfile(name):\n",
    "        raise FileNotFoundError(f'{name} does not exist.')\n",
    "    \n",
    "    # open the sql db as a dataframe\n",
    "    conn = sqlite3.connect(name)\n",
    "    query = \"SELECT * FROM notes\"\n",
    "    df_col = pd.read_sql_query(query,conn)\n",
    "    \n",
    "    df5 = df_col[df_col[\"tags\"].str.contains(level)]\n",
    "    fls = df5[\"flds\"].apply( lambda x: x.split('\\x1f'))\n",
    "\n",
    "    df = pd.DataFrame()\n",
    "    for i,c in enumerate(cols):\n",
    "        df[c] = fls.str[i]\n",
    "    df[\"jlpt\"] = df5[\"tags\"]\n",
    "    df = df.sort_values('Expression')\n",
    "    df = df.reset_index(drop=True)\n",
    "    return df"
   ]
  },
  {
   "cell_type": "code",
   "execution_count": 4,
   "id": "263ebb6a",
   "metadata": {},
   "outputs": [],
   "source": [
    "def generated_deck(level):\n",
    "    # opens the generated csv file as a dataframe\n",
    "    # level = e.g. \"jlpt-n5\"\n",
    "    df = pd.read_csv(f\"generated/{level}normal.csv\", header=None)\n",
    "    # formality column not contained in web deck currently\n",
    "    df.drop(df.columns[[5]], axis=1, inplace=True)\n",
    "    df.columns = cols\n",
    "    df = df.sort_values('Expression')\n",
    "    df = df.reset_index(drop=True)\n",
    "    df.fillna('', inplace=True)\n",
    "    return df\n"
   ]
  },
  {
   "cell_type": "code",
   "execution_count": 5,
   "id": "b3bff211",
   "metadata": {
    "scrolled": true
   },
   "outputs": [],
   "source": [
    "def compare(df1, df2):\n",
    "    # find rows not present in the other\n",
    "    # returns: differences in both dfs\n",
    "    #          rows in left df not in right\n",
    "    #          rows in right df not in left\n",
    "    df_all = df1.merge(df2.drop_duplicates(), on=['Expression'], \n",
    "                   how='left', indicator=True, suffixes=('', '_y'))\n",
    "    df_all = df_all.drop(df_all.filter(regex='_y$').columns.tolist(),axis=1)\n",
    "    df_left =  df_all[df_all['_merge'] == 'left_only']\n",
    "    df_left = df_left.drop(columns=\"_merge\")\n",
    "    \n",
    "    \n",
    "    df_all = df1.merge(df2.drop_duplicates(), on=['Expression'], \n",
    "                   how='right', indicator=True, suffixes=('_x', ''))\n",
    "    df_all = df_all.drop(df_all.filter(regex='_x$').columns.tolist(),axis=1)\n",
    "    df_right =  df_all[df_all['_merge'] == 'right_only']\n",
    "    df_right = df_right.drop(columns=\"_merge\")\n",
    "    \n",
    "    df1 = df1.drop(index = df_left.index)\n",
    "    df2 = df2.drop(index = df_right.index)\n",
    "    df1 = df1.reset_index(drop=True)\n",
    "    df2 = df2.reset_index(drop=True)\n",
    "    \n",
    "    df_comp = df1.compare(df2)\n",
    "    \n",
    "    return (df_comp, df_left, df_right)"
   ]
  },
  {
   "cell_type": "code",
   "execution_count": 6,
   "id": "14086240",
   "metadata": {},
   "outputs": [],
   "source": [
    "def show_diff(df1, df2):\n",
    "    # show all changes between two dataframes, except jtlp tags\n",
    "    df,_,_ = compare(df1, df2)\n",
    "    df.drop(columns=\"jlpt\")"
   ]
  },
  {
   "cell_type": "code",
   "execution_count": 7,
   "id": "3195b646",
   "metadata": {},
   "outputs": [],
   "source": [
    "def show_reading_diff(df1, df2):\n",
    "    # table showing the different readings between 2 dataframes\n",
    "    df_all,_,_ = compare(df1,df2)\n",
    "    dgrid = df_all.drop(columns=['English definition', 'Grammar', \"Additional definitions\", \"jlpt\"])\n",
    "    dgrid = dgrid.dropna(how=\"all\")\n",
    "    dgrid\n",
    "    dgrid.columns = [' '.join(col).strip() for col in dgrid.columns.values]\n",
    "    return dgrid\n",
    "    qgrid.show_grid(dgrid)\n"
   ]
  },
  {
   "cell_type": "code",
   "execution_count": 7,
   "id": "3b2b7a4c",
   "metadata": {},
   "outputs": [],
   "source": [
    "def reading(web: pd.DataFrame, generated: pd.DataFrame):\n",
    "    # take only the new readings, and and new rows\n",
    "    # web and generated are dataframes\n",
    "    # returns a dataframe ready for use with qgrid.show(return)\n",
    "\n",
    "    df_fin = web.merge(generated, how=\"outer\", on=\"Expression\")\n",
    "    df_fin[\"Reading_x\"] = df_fin[\"Reading_y\"]\n",
    "    df_fin = df_fin.drop(df_fin.filter(regex='_y$').columns.tolist(),axis=1)\n",
    "    df_fin.columns = df_fin.columns.str.rstrip(\"_x\")\n",
    "    return df_fin"
   ]
  },
  {
   "cell_type": "code",
   "execution_count": 14,
   "id": "f201b2fa",
   "metadata": {
    "scrolled": false
   },
   "outputs": [
    {
     "ename": "FileNotFoundError",
     "evalue": "generated.anki2 does not exist",
     "output_type": "error",
     "traceback": [
      "\u001b[0;31m---------------------------------------------------------------------------\u001b[0m",
      "\u001b[0;31mFileNotFoundError\u001b[0m                         Traceback (most recent call last)",
      "Cell \u001b[0;32mIn[14], line 3\u001b[0m\n\u001b[1;32m      1\u001b[0m \u001b[38;5;66;03m# levels=[\"jlpt-n5\", \"jlpt-n4\", \"jlpt-n3\", \"jlpt-n2\", \"jlpt-n1\", \"common\"]\u001b[39;00m\n\u001b[1;32m      2\u001b[0m \u001b[38;5;28;01mfor\u001b[39;00m l \u001b[38;5;129;01min\u001b[39;00m [\u001b[38;5;124m\"\u001b[39m\u001b[38;5;124mjlpt-n5\u001b[39m\u001b[38;5;124m\"\u001b[39m]:\n\u001b[0;32m----> 3\u001b[0m     dfg \u001b[38;5;241m=\u001b[39m \u001b[43mprepare_deck\u001b[49m\u001b[43m(\u001b[49m\u001b[43ml\u001b[49m\u001b[43m,\u001b[49m\u001b[43m \u001b[49m\u001b[38;5;124;43m'\u001b[39;49m\u001b[38;5;124;43mgenerated.anki2\u001b[39;49m\u001b[38;5;124;43m'\u001b[39;49m\u001b[43m)\u001b[49m\n\u001b[1;32m      4\u001b[0m     dfw \u001b[38;5;241m=\u001b[39m prepare_deck(l, \u001b[38;5;124m'\u001b[39m\u001b[38;5;124mcollection.anki2\u001b[39m\u001b[38;5;124m'\u001b[39m)\n\u001b[1;32m      5\u001b[0m     df_all, df_left, df_right \u001b[38;5;241m=\u001b[39m compare(dfw, dfg)\n",
      "Cell \u001b[0;32mIn[13], line 9\u001b[0m, in \u001b[0;36mprepare_deck\u001b[0;34m(level, name)\u001b[0m\n\u001b[1;32m      3\u001b[0m \u001b[38;5;28;01mdef\u001b[39;00m \u001b[38;5;21mprepare_deck\u001b[39m(level, name):\n\u001b[1;32m      4\u001b[0m     \u001b[38;5;66;03m# level = e.g. \"jlpt-n5\"\u001b[39;00m\n\u001b[1;32m      5\u001b[0m     \u001b[38;5;66;03m# returns dataframe of the level-corresponding deck from the web deck\u001b[39;00m\n\u001b[1;32m      6\u001b[0m     \u001b[38;5;66;03m# name is the file name of the .anki2 file\u001b[39;00m\n\u001b[1;32m      8\u001b[0m     \u001b[38;5;28;01mif\u001b[39;00m \u001b[38;5;129;01mnot\u001b[39;00m os\u001b[38;5;241m.\u001b[39mpath\u001b[38;5;241m.\u001b[39misfile(name):\n\u001b[0;32m----> 9\u001b[0m         \u001b[38;5;28;01mraise\u001b[39;00m \u001b[38;5;167;01mFileNotFoundError\u001b[39;00m(\u001b[38;5;124mf\u001b[39m\u001b[38;5;124m'\u001b[39m\u001b[38;5;132;01m{\u001b[39;00mname\u001b[38;5;132;01m}\u001b[39;00m\u001b[38;5;124m does not exist\u001b[39m\u001b[38;5;124m'\u001b[39m)\n\u001b[1;32m     11\u001b[0m     \u001b[38;5;66;03m# open the sql db as a dataframe\u001b[39;00m\n\u001b[1;32m     12\u001b[0m     conn \u001b[38;5;241m=\u001b[39m sqlite3\u001b[38;5;241m.\u001b[39mconnect(name)\n",
      "\u001b[0;31mFileNotFoundError\u001b[0m: generated.anki2 does not exist"
     ]
    }
   ],
   "source": [
    "# levels=[\"jlpt-n5\", \"jlpt-n4\", \"jlpt-n3\", \"jlpt-n2\", \"jlpt-n1\", \"common\"]\n",
    "for l in [\"jlpt-n5\"]:\n",
    "    dfg = prepare_deck(l, 'generated.anki2')\n",
    "    dfw = prepare_deck(l, 'collection.anki2')\n",
    "    df_all, df_left, df_right = compare(dfw, dfg)\n",
    "    df_r = reading(dfw, dfg)\n",
    "    df_r.to_csv(f'generated/{l}-read.csv', encoding=\"utf-8\", index=False, header=False)\n",
    "df_all.columns = [' '.join(col).strip() for col in df_all.columns.values]\n",
    "# qgrid.show_grid(df_all)\n"
   ]
  },
  {
   "cell_type": "code",
   "execution_count": 23,
   "id": "727b24a2",
   "metadata": {},
   "outputs": [
    {
     "data": {
      "text/html": [
       "<div>\n",
       "<style scoped>\n",
       "    .dataframe tbody tr th:only-of-type {\n",
       "        vertical-align: middle;\n",
       "    }\n",
       "\n",
       "    .dataframe tbody tr th {\n",
       "        vertical-align: top;\n",
       "    }\n",
       "\n",
       "    .dataframe thead th {\n",
       "        text-align: right;\n",
       "    }\n",
       "</style>\n",
       "<table border=\"1\" class=\"dataframe\">\n",
       "  <thead>\n",
       "    <tr style=\"text-align: right;\">\n",
       "      <th></th>\n",
       "      <th>Expression</th>\n",
       "      <th>English definition</th>\n",
       "      <th>Reading</th>\n",
       "      <th>Grammar</th>\n",
       "      <th>Additional definitions</th>\n",
       "      <th>jlpt</th>\n",
       "    </tr>\n",
       "  </thead>\n",
       "  <tbody>\n",
       "    <tr>\n",
       "      <th>646</th>\n",
       "      <td>鳥肉</td>\n",
       "      <td>chicken meat, bird meat</td>\n",
       "      <td>鳥肉[とりにく]</td>\n",
       "      <td>Noun</td>\n",
       "      <td></td>\n",
       "      <td>jlpt-n5</td>\n",
       "    </tr>\n",
       "  </tbody>\n",
       "</table>\n",
       "</div>"
      ],
      "text/plain": [
       "    Expression       English definition   Reading Grammar  \\\n",
       "646         鳥肉  chicken meat, bird meat  鳥肉[とりにく]    Noun   \n",
       "\n",
       "    Additional definitions       jlpt  \n",
       "646                          jlpt-n5   "
      ]
     },
     "execution_count": 23,
     "metadata": {},
     "output_type": "execute_result"
    }
   ],
   "source": [
    "df_left"
   ]
  },
  {
   "cell_type": "code",
   "execution_count": 18,
   "id": "58fa4bd5",
   "metadata": {},
   "outputs": [
    {
     "data": {
      "application/vnd.jupyter.widget-view+json": {
       "model_id": "9ce7a686e6af41b7bdc210312abaaed2",
       "version_major": 2,
       "version_minor": 0
      },
      "text/plain": [
       "QgridWidget(grid_options={'fullWidthRows': True, 'syncColumnCellResize': True, 'forceFitColumns': True, 'defau…"
      ]
     },
     "metadata": {},
     "output_type": "display_data"
    }
   ],
   "source": [
    "qgrid.show_grid(show_reading_diff(dfw,dfg))\n"
   ]
  },
  {
   "cell_type": "code",
   "execution_count": null,
   "id": "e905f7fb",
   "metadata": {},
   "outputs": [],
   "source": [
    "# only check different readings\n",
    "dgrid = df_all.drop(columns=['English definition', 'Grammar', \"Additional definitions\", \"jlpt\"])\n",
    "dgrid = dgrid.dropna(how=\"all\")\n",
    "dgrid"
   ]
  },
  {
   "cell_type": "code",
   "execution_count": null,
   "id": "0359bb55",
   "metadata": {},
   "outputs": [],
   "source": [
    "dfg = generated_deck(\"jlpt-n5\")\n",
    "dfw = prepare_deck(\"jlpt-n5\")\n",
    "df_all, df_left, df_right = compare(dfw, dfg)\n",
    "reading(dfw, dfg)"
   ]
  },
  {
   "cell_type": "code",
   "execution_count": null,
   "id": "b006f979",
   "metadata": {},
   "outputs": [],
   "source": [
    "qgrid.show_grid(show_reading_diff(dfw,dfg))"
   ]
  },
  {
   "cell_type": "code",
   "execution_count": 24,
   "id": "a4ad7c72",
   "metadata": {},
   "outputs": [
    {
     "ename": "NameError",
     "evalue": "name 'dd5' is not defined",
     "output_type": "error",
     "traceback": [
      "\u001b[0;31m---------------------------------------------------------------------------\u001b[0m",
      "\u001b[0;31mNameError\u001b[0m                                 Traceback (most recent call last)",
      "Input \u001b[0;32mIn [24]\u001b[0m, in \u001b[0;36m<cell line: 1>\u001b[0;34m()\u001b[0m\n\u001b[0;32m----> 1\u001b[0m df_all, df_left, df_right \u001b[38;5;241m=\u001b[39m compare(\u001b[43mdd5\u001b[49m, dg5)\n\u001b[1;32m      2\u001b[0m \u001b[38;5;66;03m# present in online deck, not generated table\u001b[39;00m\n\u001b[1;32m      3\u001b[0m df_left\n",
      "\u001b[0;31mNameError\u001b[0m: name 'dd5' is not defined"
     ]
    }
   ],
   "source": [
    "df_all, df_left, df_right = compare(dfw, dfg)\n",
    "# present in online deck, not generated table\n",
    "df_left\n",
    "# present in generated table, not in online deck\n",
    "df_right\n",
    "df_all"
   ]
  },
  {
   "cell_type": "code",
   "execution_count": null,
   "id": "d4374bd4",
   "metadata": {},
   "outputs": [],
   "source": []
  }
 ],
 "metadata": {
  "kernelspec": {
   "display_name": "Python 3 (ipykernel)",
   "language": "python",
   "name": "python3"
  },
  "language_info": {
   "codemirror_mode": {
    "name": "ipython",
    "version": 3
   },
   "file_extension": ".py",
   "mimetype": "text/x-python",
   "name": "python",
   "nbconvert_exporter": "python",
   "pygments_lexer": "ipython3",
   "version": "3.9.9"
  }
 },
 "nbformat": 4,
 "nbformat_minor": 5
}
